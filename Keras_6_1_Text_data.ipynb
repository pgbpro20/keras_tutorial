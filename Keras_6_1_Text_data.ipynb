{
 "cells": [
  {
   "cell_type": "code",
   "execution_count": 126,
   "metadata": {},
   "outputs": [],
   "source": [
    "def plot_history(history):    \n",
    "    import matplotlib.pyplot as plt\n",
    "\n",
    "    acc = history.history['acc']\n",
    "    val_acc = history.history['val_acc']\n",
    "    loss = history.history['loss']\n",
    "    val_loss = history.history['val_loss']\n",
    "\n",
    "    epochs = range(1, len(acc) + 1)\n",
    "\n",
    "    plt.plot(epochs, acc, 'bo', label='Training acc')\n",
    "    plt.plot(epochs, val_acc, 'b', label='Validation acc')\n",
    "    plt.title('Training and validation accuracy')\n",
    "    plt.legend()\n",
    "\n",
    "    plt.figure()\n",
    "\n",
    "    plt.plot(epochs, loss, 'bo', label='Training loss')\n",
    "    plt.plot(epochs, val_loss, 'b', label='Validation loss')\n",
    "    plt.title('Training and validation loss')\n",
    "    plt.legend()\n",
    "\n",
    "    plt.show()"
   ]
  },
  {
   "cell_type": "markdown",
   "metadata": {},
   "source": [
    "### Tokenizer Toy Example"
   ]
  },
  {
   "cell_type": "code",
   "execution_count": 2,
   "metadata": {},
   "outputs": [
    {
     "name": "stdout",
     "output_type": "stream",
     "text": [
      "found 9 unique tokens.\n"
     ]
    }
   ],
   "source": [
    "from keras.preprocessing.text import Tokenizer\n",
    "\n",
    "samples = ['The cat sat on the mat.', 'The dog ate my homework.']\n",
    "tokenizer = Tokenizer(num_words=1000)\n",
    "tokenizer.fit_on_texts(samples)\n",
    "\n",
    "sequences = tokenizer.texts_to_sequences(samples)\n",
    "\n",
    "one_hot_results = tokenizer.texts_to_matrix(samples, mode='binary')\n",
    "\n",
    "word_index = tokenizer.word_index\n",
    "print('found %s unique tokens.' % len(word_index))"
   ]
  },
  {
   "cell_type": "code",
   "execution_count": 23,
   "metadata": {},
   "outputs": [
    {
     "name": "stdout",
     "output_type": "stream",
     "text": [
      "0\n",
      "The cat sat on the mat.\n",
      "['The', 'cat', 'sat', 'on', 'the', 'mat.']\n",
      "1\n",
      "The dog ate my homework.\n",
      "['The', 'dog', 'ate', 'my', 'homework.']\n"
     ]
    }
   ],
   "source": [
    "max_length = 2\n",
    "for i, sample in enumerate(samples):\n",
    "    print(i)\n",
    "    print(sample)\n",
    "    print(sample.split())"
   ]
  },
  {
   "cell_type": "code",
   "execution_count": 25,
   "metadata": {},
   "outputs": [],
   "source": [
    "# one hot hashing (toy example)\n",
    "# Does away with maintaining explicit word dict - which saves memory and allows online encoding (generate tokens immediately)\n",
    "import numpy as np\n",
    "\n",
    "dimensionality = 1000\n",
    "max_length = 10\n",
    "\n",
    "results  = np.zeros((len(samples), max_length, dimensionality))\n",
    "for i, sample in enumerate(samples):\n",
    "    for j, word in list(enumerate(sample.split()))[:max_length]:\n",
    "        index = abs(hash(word)) % dimensionality\n",
    "        results[i, j, index] = 1\n",
    "        "
   ]
  },
  {
   "cell_type": "code",
   "execution_count": null,
   "metadata": {},
   "outputs": [],
   "source": [
    "# Using word embeddings \n",
    "# Low dimensional floating-point vectors - dense vectors\n",
    "# 256-dimensional, 512-dimensional, 1024-dimensional\n",
    "# Two methods: \n",
    "# 1. Learn word embeddings jointly with the main task. Random word vectors and learn word vectors same way as neural network\n",
    "# 2. Load pre-computed word embeddings "
   ]
  },
  {
   "cell_type": "markdown",
   "metadata": {},
   "source": [
    "### Learning Word Embeddings\n",
    "Easiest way to associate a dense vector is randomly.\n",
    "\n",
    "Unfortunately, \"accurate\" and \"exact\" would end up with entirely different embeddings.\n",
    "\n",
    "It is reasonable to learn a new embedding space with every new task. Just backprop it. "
   ]
  },
  {
   "cell_type": "code",
   "execution_count": 26,
   "metadata": {},
   "outputs": [],
   "source": [
    "from keras.layers import Embedding \n",
    "\n",
    "#Would 64 be equivalent to the number of 'filters' in a convnet?\n",
    "embedding_layer = Embedding(1000, 64) #1000: 1 + maximum word index, 64: dimensionality of embeddings\n",
    "\n",
    "# Embedding layer takes a 2D tensor of integers of shape (samples, sequence_length) \n",
    "# You could feed this batches with shapes (32, 10) or (64, 15) which is equivalent to 64 batches of sequences length 15\n",
    "# All sequences in batch must be same length. Sequences shorter than others should be padded with 0s. Longer - truncated.\n",
    "# RETURN 3D tensor (samples, sequence_length, embedding_dimensionality)"
   ]
  },
  {
   "cell_type": "code",
   "execution_count": 115,
   "metadata": {},
   "outputs": [],
   "source": [
    "from keras.datasets import imdb\n",
    "from keras import preprocessing\n",
    "\n",
    "max_features = 10000 # Number of words to consider as features\n",
    "maxlen = 1000 # Cut off text after this number of words among {among most common words}\n",
    "\n",
    "(x_train, y_train), (x_test, y_test) = imdb.load_data(num_words = max_features) #loads data as list of integers\n",
    "x_train = preprocessing.sequence.pad_sequences(x_train, maxlen=maxlen)\n",
    "x_test = preprocessing.sequence.pad_sequences(x_test, maxlen=maxlen)"
   ]
  },
  {
   "cell_type": "code",
   "execution_count": 116,
   "metadata": {},
   "outputs": [
    {
     "name": "stdout",
     "output_type": "stream",
     "text": [
      "_________________________________________________________________\n",
      "Layer (type)                 Output Shape              Param #   \n",
      "=================================================================\n",
      "embedding_7 (Embedding)      (None, 1000, 8)           80000     \n",
      "_________________________________________________________________\n",
      "flatten_6 (Flatten)          (None, 8000)              0         \n",
      "_________________________________________________________________\n",
      "dense_10 (Dense)             (None, 1)                 8001      \n",
      "=================================================================\n",
      "Total params: 88,001\n",
      "Trainable params: 88,001\n",
      "Non-trainable params: 0\n",
      "_________________________________________________________________\n"
     ]
    }
   ],
   "source": [
    "from keras.models import Sequential\n",
    "from keras.layers import Flatten, Dense\n",
    "\n",
    "model = Sequential()\n",
    "model.add(Embedding(10000, 8, input_length=maxlen))\n",
    "\n",
    "model.add(Flatten())\n",
    "\n",
    "model.add(Dense(1, activation='sigmoid'))\n",
    "model.compile(optimizer='rmsprop', loss='binary_crossentropy', metrics=['acc'])\n",
    "model.summary()"
   ]
  },
  {
   "cell_type": "code",
   "execution_count": 117,
   "metadata": {},
   "outputs": [
    {
     "name": "stdout",
     "output_type": "stream",
     "text": [
      "Train on 20000 samples, validate on 5000 samples\n",
      "Epoch 1/10\n",
      "20000/20000 [==============================] - 4s 193us/step - loss: 0.5635 - acc: 0.7222 - val_loss: 0.3701 - val_acc: 0.8514\n",
      "Epoch 2/10\n",
      "20000/20000 [==============================] - 3s 171us/step - loss: 0.2867 - acc: 0.8887 - val_loss: 0.2835 - val_acc: 0.8846\n",
      "Epoch 3/10\n",
      "20000/20000 [==============================] - 3s 166us/step - loss: 0.2170 - acc: 0.9165 - val_loss: 0.2739 - val_acc: 0.8900\n",
      "Epoch 4/10\n",
      "20000/20000 [==============================] - 3s 170us/step - loss: 0.1808 - acc: 0.9323 - val_loss: 0.2720 - val_acc: 0.8932\n",
      "Epoch 5/10\n",
      "20000/20000 [==============================] - 3s 167us/step - loss: 0.1558 - acc: 0.9431 - val_loss: 0.2800 - val_acc: 0.8904\n",
      "Epoch 6/10\n",
      "20000/20000 [==============================] - 3s 168us/step - loss: 0.1363 - acc: 0.9496 - val_loss: 0.2873 - val_acc: 0.8904\n",
      "Epoch 7/10\n",
      "20000/20000 [==============================] - 3s 166us/step - loss: 0.1187 - acc: 0.9573 - val_loss: 0.3006 - val_acc: 0.8866\n",
      "Epoch 8/10\n",
      "20000/20000 [==============================] - 4s 175us/step - loss: 0.1046 - acc: 0.9628 - val_loss: 0.3162 - val_acc: 0.8846\n",
      "Epoch 9/10\n",
      "20000/20000 [==============================] - 3s 167us/step - loss: 0.0921 - acc: 0.9689 - val_loss: 0.3327 - val_acc: 0.8832\n",
      "Epoch 10/10\n",
      "20000/20000 [==============================] - 3s 168us/step - loss: 0.0804 - acc: 0.9723 - val_loss: 0.3471 - val_acc: 0.8816\n"
     ]
    }
   ],
   "source": [
    "history = model.fit(x_train, y_train, epochs=10, batch_size=32, validation_split=0.2)"
   ]
  },
  {
   "cell_type": "code",
   "execution_count": 118,
   "metadata": {},
   "outputs": [
    {
     "data": {
      "image/png": "[encoded data removed]",
      "text/plain": [
       "<Figure size 432x288 with 1 Axes>"
      ]
     },
     "metadata": {
      "needs_background": "light"
     },
     "output_type": "display_data"
    },
    {
     "data": {
      "image/png": "[encoded data removed]",
      "text/plain": [
       "<Figure size 432x288 with 1 Axes>"
      ]
     },
     "metadata": {
      "needs_background": "light"
     },
     "output_type": "display_data"
    }
   ],
   "source": [
    "print(model.layers[0].get_weights()[0].shape)\n",
    "#first_layer 10000,8\n",
    "# first_layer_biases  = model.layers[0].get_weights()[1]\n",
    "# second_layer_weights = model.layers[1].get_weights()[0]\n",
    "# second_layer_biases  = model.layers[1].get_weights()[1]\n",
    "plot_history(history)"
   ]
  },
  {
   "cell_type": "markdown",
   "metadata": {},
   "source": [
    "### Pretrained word embeddings\n",
    "Just like imagenet\n",
    "\n",
    "Word2Vec: https://code.google.com/archive/p/word2vec\n",
    "Global Vectors for Word Representation: GloVe, https://nlp.stanford.edu/projects/glove"
   ]
  },
  {
   "cell_type": "code",
   "execution_count": 127,
   "metadata": {},
   "outputs": [],
   "source": [
    "# Processing labels of raw IMDB\n",
    "\n",
    "import os\n",
    "imdb_dir = r\"C:\\Users\\pgbpr\\Documents\\Verusen\\keras\\imdb\\aclImdb\\test\"\n",
    "\n",
    "labels = []\n",
    "texts = []\n",
    "\n",
    "for label_type in ['neg', 'pos']:\n",
    "    dir_name = os.path.join(imdb_dir, label_type)\n",
    "    for fname in os.listdir(dir_name):\n",
    "        if fname[-4:] == '.txt':\n",
    "            try:\n",
    "                f = open(os.path.join(dir_name, fname), encoding='UTF8')\n",
    "                texts.append(f.read())\n",
    "                f.close()\n",
    "                if label_type == 'neg':\n",
    "                    labels.append(0)\n",
    "                if label_type == 'pos':\n",
    "                    labels.append(1)\n",
    "            except:\n",
    "                print(f'problem with {fname}')"
   ]
  },
  {
   "cell_type": "code",
   "execution_count": 128,
   "metadata": {},
   "outputs": [
    {
     "name": "stdout",
     "output_type": "stream",
     "text": [
      "17243\n"
     ]
    }
   ],
   "source": [
    "print(len(labels))"
   ]
  },
  {
   "cell_type": "code",
   "execution_count": 129,
   "metadata": {},
   "outputs": [
    {
     "name": "stdout",
     "output_type": "stream",
     "text": [
      "Found 72603 unique tokens\n",
      "Shape of data tensor: (17243, 100)\n",
      "Shape of label tensor: (17243,)\n"
     ]
    }
   ],
   "source": [
    "from keras.preprocessing.text import Tokenizer\n",
    "from keras.preprocessing.sequence import pad_sequences\n",
    "import numpy as np\n",
    "\n",
    "maxlen = 100 # Cuts off reviews after 100 words\n",
    "training_samples = 12000 # Trains on 12000 samples\n",
    "validation_samples = 5243 # Validates on 5243 samples\n",
    "max_words = 10000 # considers only top 10000 words in the dataset\n",
    "\n",
    "tokenizer = Tokenizer(num_words=max_words)\n",
    "tokenizer.fit_on_texts(texts)\n",
    "sequences = tokenizer.texts_to_sequences(texts)\n",
    "\n",
    "word_index = tokenizer.word_index\n",
    "print(f'Found {len(word_index)} unique tokens')\n",
    "\n",
    "data = pad_sequences(sequences, maxlen=maxlen)\n",
    "\n",
    "labels = np.asarray(labels)\n",
    "print(f'Shape of data tensor: {data.shape}')\n",
    "print(f'Shape of label tensor: {labels.shape}')\n",
    "\n",
    "indices = np.arange(data.shape[0])\n",
    "np.random.shuffle(indices)\n",
    "data = data[indices]\n",
    "labels = labels[indices]\n",
    "\n",
    "x_train = data[:training_samples]\n",
    "y_train = labels[:training_samples]\n",
    "x_val = data[training_samples: training_samples + validation_samples]\n",
    "y_val = labels[training_samples: training_samples + validation_samples]"
   ]
  },
  {
   "cell_type": "code",
   "execution_count": 130,
   "metadata": {},
   "outputs": [
    {
     "name": "stdout",
     "output_type": "stream",
     "text": [
      "Found 400000 word vectors\n",
      "embeddings_index is a <class 'dict'>\n"
     ]
    }
   ],
   "source": [
    "glove_dir = r'C:\\Users\\pgbpr\\Documents\\Verusen\\keras\\glove'\n",
    "\n",
    "embeddings_index = {}\n",
    "f = open(os.path.join(glove_dir, 'glove.6B.100d.txt'), encoding=\"utf8\")\n",
    "for line in f:\n",
    "    values = line.split()\n",
    "    word = values[0]\n",
    "    coef = np.asarray(values[1:], dtype='float32')\n",
    "    embeddings_index[word] = coef\n",
    "f.close()\n",
    "\n",
    "print(f'Found {len(embeddings_index)} word vectors')\n",
    "print(f'embeddings_index is a {type(embeddings_index)}')"
   ]
  },
  {
   "cell_type": "code",
   "execution_count": 131,
   "metadata": {},
   "outputs": [
    {
     "name": "stdout",
     "output_type": "stream",
     "text": [
      "shape of embedding_matrix (10000, 100)\n"
     ]
    }
   ],
   "source": [
    "embedding_dim = 100\n",
    "\n",
    "embedding_matrix = np.zeros((max_words, embedding_dim))\n",
    "for word, i in word_index.items():\n",
    "    if i < max_words:\n",
    "        embedding_vector = embeddings_index.get(word)\n",
    "        if embedding_vector is not None:\n",
    "            embedding_matrix[i] = embedding_vector\n",
    "print(f'shape of embedding_matrix {embedding_matrix.shape}')"
   ]
  },
  {
   "cell_type": "code",
   "execution_count": 132,
   "metadata": {},
   "outputs": [
    {
     "name": "stdout",
     "output_type": "stream",
     "text": [
      "_________________________________________________________________\n",
      "Layer (type)                 Output Shape              Param #   \n",
      "=================================================================\n",
      "embedding_9 (Embedding)      (None, 100, 100)          1000000   \n",
      "_________________________________________________________________\n",
      "flatten_8 (Flatten)          (None, 10000)             0         \n",
      "_________________________________________________________________\n",
      "dense_13 (Dense)             (None, 32)                320032    \n",
      "_________________________________________________________________\n",
      "dense_14 (Dense)             (None, 1)                 33        \n",
      "=================================================================\n",
      "Total params: 1,320,065\n",
      "Trainable params: 1,320,065\n",
      "Non-trainable params: 0\n",
      "_________________________________________________________________\n"
     ]
    }
   ],
   "source": [
    "from keras.models import Sequential\n",
    "from keras.layers import Embedding, Flatten, Dense\n",
    "\n",
    "model = Sequential()\n",
    "model.add(Embedding(max_words, embedding_dim, input_length=maxlen)) #10000, 100, input_length = 20\n",
    "model.add(Flatten())\n",
    "model.add(Dense(32, activation='relu'))\n",
    "model.add(Dense(1, activation='sigmoid'))\n",
    "model.summary()"
   ]
  },
  {
   "cell_type": "code",
   "execution_count": 133,
   "metadata": {},
   "outputs": [
    {
     "name": "stdout",
     "output_type": "stream",
     "text": [
      "Train on 12000 samples, validate on 5243 samples\n",
      "Epoch 1/10\n",
      "12000/12000 [==============================] - 3s 227us/step - loss: 0.5691 - acc: 0.7293 - val_loss: 0.5213 - val_acc: 0.7410\n",
      "Epoch 2/10\n",
      "12000/12000 [==============================] - 2s 182us/step - loss: 0.4619 - acc: 0.7854 - val_loss: 0.5571 - val_acc: 0.7084\n",
      "Epoch 3/10\n",
      "12000/12000 [==============================] - 2s 181us/step - loss: 0.4038 - acc: 0.8189 - val_loss: 0.5022 - val_acc: 0.7639\n",
      "Epoch 4/10\n",
      "12000/12000 [==============================] - 2s 180us/step - loss: 0.3569 - acc: 0.8516 - val_loss: 0.5475 - val_acc: 0.7669\n",
      "Epoch 5/10\n",
      "12000/12000 [==============================] - 2s 181us/step - loss: 0.3098 - acc: 0.8746 - val_loss: 0.5656 - val_acc: 0.7511\n",
      "Epoch 6/10\n",
      "12000/12000 [==============================] - 2s 179us/step - loss: 0.2710 - acc: 0.8940 - val_loss: 0.6555 - val_acc: 0.7503\n",
      "Epoch 7/10\n",
      "12000/12000 [==============================] - 2s 179us/step - loss: 0.2275 - acc: 0.9072 - val_loss: 0.9103 - val_acc: 0.7711\n",
      "Epoch 8/10\n",
      "12000/12000 [==============================] - 2s 177us/step - loss: 0.1772 - acc: 0.9287 - val_loss: 0.7829 - val_acc: 0.7221\n",
      "Epoch 9/10\n",
      "12000/12000 [==============================] - 2s 180us/step - loss: 0.1385 - acc: 0.9513 - val_loss: 0.8566 - val_acc: 0.7395\n",
      "Epoch 10/10\n",
      "12000/12000 [==============================] - 2s 182us/step - loss: 0.1020 - acc: 0.9653 - val_loss: 0.9212 - val_acc: 0.7215\n"
     ]
    }
   ],
   "source": [
    "model.layers[0].set_weights([embedding_matrix])\n",
    "model.layers[0].trainable = False\n",
    "\n",
    "model.compile(optimizer='rmsprop', loss='binary_crossentropy', metrics=['acc'])\n",
    "history = model.fit(x_train, y_train, epochs=10, batch_size=32, validation_data=(x_val, y_val))\n",
    "model.save_weights('pre_trained_glove_model.h5')"
   ]
  },
  {
   "cell_type": "code",
   "execution_count": 134,
   "metadata": {},
   "outputs": [
    {
     "data": {
      "image/png": "[encoded data removed]",
      "text/plain": [
       "<Figure size 432x288 with 1 Axes>"
      ]
     },
     "metadata": {
      "needs_background": "light"
     },
     "output_type": "display_data"
    },
    {
     "data": {
      "image/png": "[encoded data removed]",
      "text/plain": [
       "<Figure size 432x288 with 1 Axes>"
      ]
     },
     "metadata": {
      "needs_background": "light"
     },
     "output_type": "display_data"
    }
   ],
   "source": [
    "plot_history(history)"
   ]
  },
  {
   "cell_type": "code",
   "execution_count": 135,
   "metadata": {},
   "outputs": [
    {
     "name": "stdout",
     "output_type": "stream",
     "text": [
      "Train on 12000 samples, validate on 5243 samples\n",
      "Epoch 1/10\n",
      "12000/12000 [==============================] - 4s 294us/step - loss: 0.4095 - acc: 0.8125 - val_loss: 0.2975 - val_acc: 0.8697\n",
      "Epoch 2/10\n",
      "12000/12000 [==============================] - 3s 232us/step - loss: 0.1228 - acc: 0.9571 - val_loss: 0.3462 - val_acc: 0.8636\n",
      "Epoch 3/10\n",
      "12000/12000 [==============================] - 3s 235us/step - loss: 0.0110 - acc: 0.9978 - val_loss: 0.5950 - val_acc: 0.8486\n",
      "Epoch 4/10\n",
      "12000/12000 [==============================] - 3s 233us/step - loss: 0.0011 - acc: 0.9998 - val_loss: 0.6256 - val_acc: 0.8566\n",
      "Epoch 5/10\n",
      "12000/12000 [==============================] - 3s 234us/step - loss: 5.3767e-05 - acc: 1.0000 - val_loss: 0.7049 - val_acc: 0.8535\n",
      "Epoch 6/10\n",
      "12000/12000 [==============================] - 3s 235us/step - loss: 4.9140e-05 - acc: 1.0000 - val_loss: 0.7883 - val_acc: 0.8562\n",
      "Epoch 7/10\n",
      "12000/12000 [==============================] - 3s 233us/step - loss: 3.2656e-07 - acc: 1.0000 - val_loss: 0.8236 - val_acc: 0.8556\n",
      "Epoch 8/10\n",
      "12000/12000 [==============================] - 3s 235us/step - loss: 1.0849e-07 - acc: 1.0000 - val_loss: 0.8287 - val_acc: 0.8568\n",
      "Epoch 9/10\n",
      "12000/12000 [==============================] - 3s 233us/step - loss: 1.0577e-07 - acc: 1.0000 - val_loss: 0.8343 - val_acc: 0.8564\n",
      "Epoch 10/10\n",
      "12000/12000 [==============================] - 3s 237us/step - loss: 1.0548e-07 - acc: 1.0000 - val_loss: 0.8379 - val_acc: 0.8571\n"
     ]
    }
   ],
   "source": [
    "# Without pretrained word embeddings\n",
    "\n",
    "model = Sequential()\n",
    "model.add(Embedding(max_words, embedding_dim, input_length=maxlen)) #10000, 100, input_length = 20\n",
    "model.add(Flatten())\n",
    "model.add(Dense(32, activation='relu'))\n",
    "model.add(Dense(1, activation='sigmoid'))\n",
    "model.compile(optimizer='rmsprop', loss='binary_crossentropy', metrics=['acc'])\n",
    "history = model.fit(x_train, y_train, epochs=10, batch_size=32, validation_data=(x_val, y_val))"
   ]
  },
  {
   "cell_type": "code",
   "execution_count": 136,
   "metadata": {},
   "outputs": [
    {
     "data": {
      "image/png": "[encoded data removed]",
      "text/plain": [
       "<Figure size 432x288 with 1 Axes>"
      ]
     },
     "metadata": {
      "needs_background": "light"
     },
     "output_type": "display_data"
    },
    {
     "data": {
      "image/png": "[encoded data removed]",
      "text/plain": [
       "<Figure size 432x288 with 1 Axes>"
      ]
     },
     "metadata": {
      "needs_background": "light"
     },
     "output_type": "display_data"
    }
   ],
   "source": [
    "plot_history(history)"
   ]
  }
 ],
 "metadata": {
  "kernelspec": {
   "display_name": "Python (tf-gpu)",
   "language": "python",
   "name": "tf-gpu"
  },
  "language_info": {
   "codemirror_mode": {
    "name": "ipython",
    "version": 3
   },
   "file_extension": ".py",
   "mimetype": "text/x-python",
   "name": "python",
   "nbconvert_exporter": "python",
   "pygments_lexer": "ipython3",
   "version": "3.6.8"
  }
 },
 "nbformat": 4,
 "nbformat_minor": 2
}
