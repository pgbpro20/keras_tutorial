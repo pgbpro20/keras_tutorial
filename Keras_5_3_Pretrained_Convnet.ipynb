{
 "cells": [
  {
   "cell_type": "markdown",
   "metadata": {},
   "source": [
    "### Pretrained Convnets\n",
    "A pretrained network is a saved network that was previous trained on a large dataset, typically on a large-scale image-classification task. If it's big enough and general enough, then the spatial hierarchy of features learned by the pretrained network can effectively act as a generic model, even though these new problems may involve completely different classes. \n",
    "\n",
    "### Feature Extraction\n",
    "Feature extraction consists of using the representations learned by a previous network to extract interesting features from new samples. These features are run through a new classifier - which is trained from scratch. \n",
    "\n",
    "Convnets for image classification has 2 parts:\n",
    "1. Convolutional Base: Convolution and Pooling Layers\n",
    "2. Densely connected classifiers\n",
    "Feature extraction: Take Convolutional base and then train a new classifier!\n",
    "\n",
    "The level of generality extracted by convolutional layers depend on the depth of the layer. Earlier layers are more generic than later layers - so you may be better off not using later layers. \n",
    "\n"
   ]
  },
  {
   "cell_type": "code",
   "execution_count": 1,
   "metadata": {},
   "outputs": [
    {
     "name": "stderr",
     "output_type": "stream",
     "text": [
      "Using TensorFlow backend.\n"
     ]
    },
    {
     "name": "stdout",
     "output_type": "stream",
     "text": [
      "WARNING:tensorflow:From C:\\Users\\pgbpr\\Anaconda2\\envs\\tf-gpu\\lib\\site-packages\\tensorflow\\python\\framework\\op_def_library.py:263: colocate_with (from tensorflow.python.framework.ops) is deprecated and will be removed in a future version.\n",
      "Instructions for updating:\n",
      "Colocations handled automatically by placer.\n",
      "_________________________________________________________________\n",
      "Layer (type)                 Output Shape              Param #   \n",
      "=================================================================\n",
      "input_1 (InputLayer)         (None, 150, 150, 3)       0         \n",
      "_________________________________________________________________\n",
      "block1_conv1 (Conv2D)        (None, 150, 150, 64)      1792      \n",
      "_________________________________________________________________\n",
      "block1_conv2 (Conv2D)        (None, 150, 150, 64)      36928     \n",
      "_________________________________________________________________\n",
      "block1_pool (MaxPooling2D)   (None, 75, 75, 64)        0         \n",
      "_________________________________________________________________\n",
      "block2_conv1 (Conv2D)        (None, 75, 75, 128)       73856     \n",
      "_________________________________________________________________\n",
      "block2_conv2 (Conv2D)        (None, 75, 75, 128)       147584    \n",
      "_________________________________________________________________\n",
      "block2_pool (MaxPooling2D)   (None, 37, 37, 128)       0         \n",
      "_________________________________________________________________\n",
      "block3_conv1 (Conv2D)        (None, 37, 37, 256)       295168    \n",
      "_________________________________________________________________\n",
      "block3_conv2 (Conv2D)        (None, 37, 37, 256)       590080    \n",
      "_________________________________________________________________\n",
      "block3_conv3 (Conv2D)        (None, 37, 37, 256)       590080    \n",
      "_________________________________________________________________\n",
      "block3_pool (MaxPooling2D)   (None, 18, 18, 256)       0         \n",
      "_________________________________________________________________\n",
      "block4_conv1 (Conv2D)        (None, 18, 18, 512)       1180160   \n",
      "_________________________________________________________________\n",
      "block4_conv2 (Conv2D)        (None, 18, 18, 512)       2359808   \n",
      "_________________________________________________________________\n",
      "block4_conv3 (Conv2D)        (None, 18, 18, 512)       2359808   \n",
      "_________________________________________________________________\n",
      "block4_pool (MaxPooling2D)   (None, 9, 9, 512)         0         \n",
      "_________________________________________________________________\n",
      "block5_conv1 (Conv2D)        (None, 9, 9, 512)         2359808   \n",
      "_________________________________________________________________\n",
      "block5_conv2 (Conv2D)        (None, 9, 9, 512)         2359808   \n",
      "_________________________________________________________________\n",
      "block5_conv3 (Conv2D)        (None, 9, 9, 512)         2359808   \n",
      "_________________________________________________________________\n",
      "block5_pool (MaxPooling2D)   (None, 4, 4, 512)         0         \n",
      "=================================================================\n",
      "Total params: 14,714,688\n",
      "Trainable params: 14,714,688\n",
      "Non-trainable params: 0\n",
      "_________________________________________________________________\n"
     ]
    }
   ],
   "source": [
    "from keras.applications import VGG16\n",
    "# Weights: Specifies where weight should be inialized to\n",
    "# Include Top: Refers to including the densely connected classifier on top of the network. Here we don't want\n",
    "# To use the 1000 classes included in imagenet\n",
    "# Input_shape: Purely optional, if you don't pass it - it can accept inputs of ANY size\n",
    "conv_base = VGG16(weights='imagenet', include_top=False, input_shape=(150, 150, 3))\n",
    "conv_base.summary()"
   ]
  },
  {
   "cell_type": "markdown",
   "metadata": {},
   "source": [
    "### Fast Feature Extraction\n",
    "Running convolutional base over the dataset, recording it's output to a numpy array on disk, then using this data as input to a standalone, densely connected classifier.\n",
    "\n",
    "(Alternative is to extend the model that you have --- later)"
   ]
  },
  {
   "cell_type": "code",
   "execution_count": 2,
   "metadata": {},
   "outputs": [
    {
     "name": "stdout",
     "output_type": "stream",
     "text": [
      "Found 2000 images belonging to 2 classes.\n",
      "Found 1000 images belonging to 2 classes.\n",
      "Found 1000 images belonging to 2 classes.\n"
     ]
    }
   ],
   "source": [
    "import os\n",
    "import numpy as np\n",
    "from keras.preprocessing.image import ImageDataGenerator\n",
    "\n",
    "base_dir = r'C:\\Users\\pgbpr\\Documents\\Verusen\\keras\\dogs-vs-cats\\small'\n",
    "train_dir = os.path.join(base_dir, 'train')\n",
    "validation_dir = os.path.join(base_dir, 'validation')\n",
    "test_dir = os.path.join(base_dir, 'test')\n",
    "\n",
    "datagen = ImageDataGenerator(rescale=1./255)\n",
    "batch_size = 20\n",
    "\n",
    "def extract_features(directory, sample_count):\n",
    "    # Notice the hard coded section is the same as the output of the convolutional base\n",
    "    features = np.zeros(shape=(sample_count, 4, 4, 512))\n",
    "    labels = np.zeros(shape=(sample_count))\n",
    "    generator = datagen.flow_from_directory(\n",
    "        directory,\n",
    "        target_size=(150,150),\n",
    "        batch_size=batch_size,\n",
    "        class_mode='binary')\n",
    "    i = 0\n",
    "    for inputs_batch, labels_batch in generator:\n",
    "        features_batch = conv_base.predict(inputs_batch)\n",
    "        features[i * batch_size : (i + 1) * batch_size] = features_batch\n",
    "        labels[i * batch_size : (i + 1) * batch_size] = labels_batch\n",
    "        i += 1\n",
    "        if i * batch_size >= sample_count:\n",
    "            break\n",
    "    return features, labels\n",
    "\n",
    "train_features, train_labels = extract_features(train_dir, 2000)\n",
    "validation_features, validation_labels = extract_features(validation_dir, 1000)\n",
    "test_features, test_labels = extract_features(test_dir, 1000)\n",
    "\n",
    "# Extracted featires currently of the shape samples, 4, 4, 512. We'll feed them into a fully connected classifier\n",
    "# So it's got to be (samples, 8192) - which is just everything flattened\n",
    "\n",
    "train_features = np.reshape(train_features, (2000, 4 * 4 * 512))\n",
    "validation_features = np.reshape(validation_features, (1000, 4 * 4 * 512))\n",
    "test_features = np.reshape(test_features, (1000, 4 * 4 * 512))\n"
   ]
  },
  {
   "cell_type": "code",
   "execution_count": 3,
   "metadata": {},
   "outputs": [
    {
     "name": "stdout",
     "output_type": "stream",
     "text": [
      "WARNING:tensorflow:From C:\\Users\\pgbpr\\Anaconda2\\envs\\tf-gpu\\lib\\site-packages\\keras\\backend\\tensorflow_backend.py:3447: calling dropout (from tensorflow.python.ops.nn_ops) with keep_prob is deprecated and will be removed in a future version.\n",
      "Instructions for updating:\n",
      "Please use `rate` instead of `keep_prob`. Rate should be set to `rate = 1 - keep_prob`.\n",
      "WARNING:tensorflow:From C:\\Users\\pgbpr\\Anaconda2\\envs\\tf-gpu\\lib\\site-packages\\tensorflow\\python\\ops\\math_ops.py:3066: to_int32 (from tensorflow.python.ops.math_ops) is deprecated and will be removed in a future version.\n",
      "Instructions for updating:\n",
      "Use tf.cast instead.\n",
      "Train on 2000 samples, validate on 1000 samples\n",
      "Epoch 1/30\n",
      "2000/2000 [==============================] - 2s 1ms/step - loss: 0.6109 - acc: 0.6575 - val_loss: 0.4259 - val_acc: 0.8610\n",
      "Epoch 2/30\n",
      "2000/2000 [==============================] - 1s 549us/step - loss: 0.4207 - acc: 0.8180 - val_loss: 0.3521 - val_acc: 0.8750\n",
      "Epoch 3/30\n",
      "2000/2000 [==============================] - 1s 554us/step - loss: 0.3676 - acc: 0.8475 - val_loss: 0.3145 - val_acc: 0.8860\n",
      "Epoch 4/30\n",
      "2000/2000 [==============================] - 1s 552us/step - loss: 0.3195 - acc: 0.8675 - val_loss: 0.2938 - val_acc: 0.8870\n",
      "Epoch 5/30\n",
      "2000/2000 [==============================] - 1s 549us/step - loss: 0.2970 - acc: 0.8790 - val_loss: 0.2811 - val_acc: 0.8880\n",
      "Epoch 6/30\n",
      "2000/2000 [==============================] - 1s 548us/step - loss: 0.2672 - acc: 0.8955 - val_loss: 0.2669 - val_acc: 0.8960\n",
      "Epoch 7/30\n",
      "2000/2000 [==============================] - 1s 550us/step - loss: 0.2500 - acc: 0.9000 - val_loss: 0.2609 - val_acc: 0.8900\n",
      "Epoch 8/30\n",
      "2000/2000 [==============================] - 1s 544us/step - loss: 0.2348 - acc: 0.9120 - val_loss: 0.2550 - val_acc: 0.8920\n",
      "Epoch 9/30\n",
      "2000/2000 [==============================] - 1s 551us/step - loss: 0.2213 - acc: 0.9125 - val_loss: 0.2495 - val_acc: 0.8950\n",
      "Epoch 10/30\n",
      "2000/2000 [==============================] - 1s 549us/step - loss: 0.2136 - acc: 0.9170 - val_loss: 0.2509 - val_acc: 0.8970\n",
      "Epoch 11/30\n",
      "2000/2000 [==============================] - 1s 549us/step - loss: 0.1982 - acc: 0.9330 - val_loss: 0.2503 - val_acc: 0.8920\n",
      "Epoch 12/30\n",
      "2000/2000 [==============================] - 1s 539us/step - loss: 0.1902 - acc: 0.9315 - val_loss: 0.2394 - val_acc: 0.9010\n",
      "Epoch 13/30\n",
      "2000/2000 [==============================] - 1s 548us/step - loss: 0.1781 - acc: 0.9420 - val_loss: 0.2404 - val_acc: 0.8960\n",
      "Epoch 14/30\n",
      "2000/2000 [==============================] - 1s 553us/step - loss: 0.1720 - acc: 0.9400 - val_loss: 0.2387 - val_acc: 0.8930\n",
      "Epoch 15/30\n",
      "2000/2000 [==============================] - 1s 554us/step - loss: 0.1655 - acc: 0.9445 - val_loss: 0.2353 - val_acc: 0.8990\n",
      "Epoch 16/30\n",
      "2000/2000 [==============================] - 1s 566us/step - loss: 0.1566 - acc: 0.9410 - val_loss: 0.2444 - val_acc: 0.8980\n",
      "Epoch 17/30\n",
      "2000/2000 [==============================] - 1s 589us/step - loss: 0.1530 - acc: 0.9405 - val_loss: 0.2338 - val_acc: 0.8990\n",
      "Epoch 18/30\n",
      "2000/2000 [==============================] - 1s 591us/step - loss: 0.1468 - acc: 0.9485 - val_loss: 0.2356 - val_acc: 0.8980\n",
      "Epoch 19/30\n",
      "2000/2000 [==============================] - 1s 573us/step - loss: 0.1416 - acc: 0.9505 - val_loss: 0.2319 - val_acc: 0.8980\n",
      "Epoch 20/30\n",
      "2000/2000 [==============================] - 1s 558us/step - loss: 0.1360 - acc: 0.9525 - val_loss: 0.2364 - val_acc: 0.8950\n",
      "Epoch 21/30\n",
      "2000/2000 [==============================] - 1s 560us/step - loss: 0.1275 - acc: 0.9570 - val_loss: 0.2374 - val_acc: 0.8980\n",
      "Epoch 22/30\n",
      "2000/2000 [==============================] - 1s 553us/step - loss: 0.1213 - acc: 0.9560 - val_loss: 0.2339 - val_acc: 0.8990\n",
      "Epoch 23/30\n",
      "2000/2000 [==============================] - 1s 566us/step - loss: 0.1232 - acc: 0.9580 - val_loss: 0.2356 - val_acc: 0.8990\n",
      "Epoch 24/30\n",
      "2000/2000 [==============================] - 1s 568us/step - loss: 0.1139 - acc: 0.9630 - val_loss: 0.2350 - val_acc: 0.9020\n",
      "Epoch 25/30\n",
      "2000/2000 [==============================] - 1s 563us/step - loss: 0.1092 - acc: 0.9655 - val_loss: 0.2354 - val_acc: 0.9000\n",
      "Epoch 26/30\n",
      "2000/2000 [==============================] - 1s 557us/step - loss: 0.1043 - acc: 0.9655 - val_loss: 0.2457 - val_acc: 0.8980\n",
      "Epoch 27/30\n",
      "2000/2000 [==============================] - 1s 565us/step - loss: 0.0994 - acc: 0.9710 - val_loss: 0.2364 - val_acc: 0.9000\n",
      "Epoch 28/30\n",
      "2000/2000 [==============================] - 1s 565us/step - loss: 0.0975 - acc: 0.9705 - val_loss: 0.2346 - val_acc: 0.9020\n",
      "Epoch 29/30\n",
      "2000/2000 [==============================] - 1s 565us/step - loss: 0.0945 - acc: 0.9720 - val_loss: 0.2389 - val_acc: 0.9070\n",
      "Epoch 30/30\n",
      "2000/2000 [==============================] - 1s 557us/step - loss: 0.0900 - acc: 0.9690 - val_loss: 0.2475 - val_acc: 0.8970\n"
     ]
    }
   ],
   "source": [
    "from keras import models\n",
    "from keras import layers\n",
    "from keras import optimizers\n",
    "\n",
    "model = models.Sequential()\n",
    "model.add(layers.Dense(256, activation='relu', input_dim = 4 * 4 * 512))\n",
    "model.add(layers.Dropout(0.5))\n",
    "model.add(layers.Dense(1, activation='sigmoid'))\n",
    "\n",
    "model.compile(optimizer=optimizers.RMSprop(lr=2e-5), \n",
    "             loss='binary_crossentropy',\n",
    "             metrics=['acc'])\n",
    "\n",
    "history = model.fit(train_features, train_labels, epochs=30, batch_size=20, validation_data=(validation_features, validation_labels))\n"
   ]
  },
  {
   "cell_type": "code",
   "execution_count": 10,
   "metadata": {},
   "outputs": [
    {
     "data": {
      "text/plain": [
       "<matplotlib.legend.Legend at 0x1d1df07cfd0>"
      ]
     },
     "execution_count": 10,
     "metadata": {},
     "output_type": "execute_result"
    },
    {
     "data": {
      "image/png": "[encoded data removed]",
      "text/plain": [
       "<Figure size 432x288 with 1 Axes>"
      ]
     },
     "metadata": {
      "needs_background": "light"
     },
     "output_type": "display_data"
    }
   ],
   "source": [
    "import matplotlib.pyplot as plt\n",
    "\n",
    "acc = history.history['acc']\n",
    "val_acc = history.history['val_acc']\n",
    "loss = history.history['loss']\n",
    "val_loss = history.history['val_loss']\n",
    "\n",
    "epochs = range(1, len(acc) + 1)\n",
    "\n",
    "\n",
    "plt.plot(epochs, acc, 'b', label='Training acc')\n",
    "plt.plot(epochs, val_acc, 'r', label='Validation acc')\n",
    "plt.title('training and validation accuracy')\n",
    "plt.legend()"
   ]
  },
  {
   "cell_type": "markdown",
   "metadata": {},
   "source": [
    "### Now we *can* restart the entire network"
   ]
  },
  {
   "cell_type": "code",
   "execution_count": 11,
   "metadata": {},
   "outputs": [
    {
     "name": "stdout",
     "output_type": "stream",
     "text": [
      "_________________________________________________________________\n",
      "Layer (type)                 Output Shape              Param #   \n",
      "=================================================================\n",
      "vgg16 (Model)                (None, 4, 4, 512)         14714688  \n",
      "_________________________________________________________________\n",
      "flatten_1 (Flatten)          (None, 8192)              0         \n",
      "_________________________________________________________________\n",
      "dense_3 (Dense)              (None, 256)               2097408   \n",
      "_________________________________________________________________\n",
      "dense_4 (Dense)              (None, 1)                 257       \n",
      "=================================================================\n",
      "Total params: 16,812,353\n",
      "Trainable params: 16,812,353\n",
      "Non-trainable params: 0\n",
      "_________________________________________________________________\n"
     ]
    }
   ],
   "source": [
    "model = models.Sequential()\n",
    "model.add(conv_base)\n",
    "model.add(layers.Flatten())\n",
    "model.add(layers.Dense(256, activation='relu'))\n",
    "model.add(layers.Dense(1, activation='sigmoid'))\n",
    "model.summary()"
   ]
  },
  {
   "cell_type": "markdown",
   "metadata": {},
   "source": [
    "### Freeze layers\n",
    "Important to freeze the convolutional base (freeze weights). Dense layers are randomly initialized, very large weight updates would be propogated through the network, destroying the weights previously learned. "
   ]
  },
  {
   "cell_type": "code",
   "execution_count": 12,
   "metadata": {},
   "outputs": [
    {
     "name": "stdout",
     "output_type": "stream",
     "text": [
      "30\n",
      "4\n"
     ]
    }
   ],
   "source": [
    "print(len(model.trainable_weights))\n",
    "conv_base.trainable = False\n",
    "print(len(model.trainable_weights))"
   ]
  },
  {
   "cell_type": "code",
   "execution_count": 13,
   "metadata": {},
   "outputs": [
    {
     "name": "stdout",
     "output_type": "stream",
     "text": [
      "Found 2000 images belonging to 2 classes.\n",
      "Found 1000 images belonging to 2 classes.\n",
      "Epoch 1/30\n",
      "100/100 [==============================] - 25s 249ms/step - loss: 0.5842 - acc: 0.6930 - val_loss: 0.4413 - val_acc: 0.8410\n",
      "Epoch 2/30\n",
      "100/100 [==============================] - 22s 220ms/step - loss: 0.4703 - acc: 0.7895 - val_loss: 0.3578 - val_acc: 0.8690\n",
      "Epoch 3/30\n",
      "100/100 [==============================] - 22s 220ms/step - loss: 0.4347 - acc: 0.8040 - val_loss: 0.3305 - val_acc: 0.8670\n",
      "Epoch 4/30\n",
      "100/100 [==============================] - 22s 222ms/step - loss: 0.3997 - acc: 0.8225 - val_loss: 0.3099 - val_acc: 0.8750\n",
      "Epoch 5/30\n",
      "100/100 [==============================] - 22s 222ms/step - loss: 0.3760 - acc: 0.8445 - val_loss: 0.2846 - val_acc: 0.8950\n",
      "Epoch 6/30\n",
      "100/100 [==============================] - 22s 222ms/step - loss: 0.3659 - acc: 0.8360 - val_loss: 0.2768 - val_acc: 0.8900\n",
      "Epoch 7/30\n",
      "100/100 [==============================] - 22s 224ms/step - loss: 0.3507 - acc: 0.8445 - val_loss: 0.2685 - val_acc: 0.8910\n",
      "Epoch 8/30\n",
      "100/100 [==============================] - 22s 221ms/step - loss: 0.3466 - acc: 0.8455 - val_loss: 0.2646 - val_acc: 0.8920\n",
      "Epoch 9/30\n",
      "100/100 [==============================] - 22s 221ms/step - loss: 0.3478 - acc: 0.8490 - val_loss: 0.2554 - val_acc: 0.9060\n",
      "Epoch 10/30\n",
      "100/100 [==============================] - 22s 222ms/step - loss: 0.3388 - acc: 0.8585 - val_loss: 0.2598 - val_acc: 0.8940\n",
      "Epoch 11/30\n",
      "100/100 [==============================] - 23s 229ms/step - loss: 0.3258 - acc: 0.8575 - val_loss: 0.2555 - val_acc: 0.8960\n",
      "Epoch 12/30\n",
      "100/100 [==============================] - 23s 227ms/step - loss: 0.3264 - acc: 0.8625 - val_loss: 0.2473 - val_acc: 0.9000\n",
      "Epoch 13/30\n",
      "100/100 [==============================] - 23s 228ms/step - loss: 0.3093 - acc: 0.8635 - val_loss: 0.2451 - val_acc: 0.9030\n",
      "Epoch 14/30\n",
      "100/100 [==============================] - 23s 227ms/step - loss: 0.3163 - acc: 0.8645 - val_loss: 0.2440 - val_acc: 0.9040\n",
      "Epoch 15/30\n",
      "100/100 [==============================] - 23s 231ms/step - loss: 0.3104 - acc: 0.8635 - val_loss: 0.2479 - val_acc: 0.8950\n",
      "Epoch 16/30\n",
      "100/100 [==============================] - 23s 234ms/step - loss: 0.3113 - acc: 0.8590 - val_loss: 0.2461 - val_acc: 0.8930\n",
      "Epoch 17/30\n",
      "100/100 [==============================] - 23s 232ms/step - loss: 0.3187 - acc: 0.8635 - val_loss: 0.2386 - val_acc: 0.9040\n",
      "Epoch 18/30\n",
      "100/100 [==============================] - 23s 233ms/step - loss: 0.3084 - acc: 0.8645 - val_loss: 0.2371 - val_acc: 0.9060\n",
      "Epoch 19/30\n",
      "100/100 [==============================] - 23s 232ms/step - loss: 0.3031 - acc: 0.8725 - val_loss: 0.2384 - val_acc: 0.9050\n",
      "Epoch 20/30\n",
      "100/100 [==============================] - 23s 232ms/step - loss: 0.2877 - acc: 0.8830 - val_loss: 0.2389 - val_acc: 0.9040\n",
      "Epoch 21/30\n",
      "100/100 [==============================] - 23s 232ms/step - loss: 0.3077 - acc: 0.8590 - val_loss: 0.2360 - val_acc: 0.9040\n",
      "Epoch 22/30\n",
      "100/100 [==============================] - 23s 233ms/step - loss: 0.2985 - acc: 0.8705 - val_loss: 0.2343 - val_acc: 0.9040\n",
      "Epoch 23/30\n",
      "100/100 [==============================] - 23s 232ms/step - loss: 0.2979 - acc: 0.8710 - val_loss: 0.2360 - val_acc: 0.9070\n",
      "Epoch 24/30\n",
      "100/100 [==============================] - 23s 232ms/step - loss: 0.2907 - acc: 0.8740 - val_loss: 0.2434 - val_acc: 0.8970\n",
      "Epoch 25/30\n",
      "100/100 [==============================] - 23s 231ms/step - loss: 0.2821 - acc: 0.8825 - val_loss: 0.2333 - val_acc: 0.9050s - loss:\n",
      "Epoch 26/30\n",
      "100/100 [==============================] - 22s 218ms/step - loss: 0.2851 - acc: 0.8835 - val_loss: 0.2388 - val_acc: 0.9000\n",
      "Epoch 27/30\n",
      "100/100 [==============================] - 23s 225ms/step - loss: 0.3077 - acc: 0.8700 - val_loss: 0.2431 - val_acc: 0.8970\n",
      "Epoch 28/30\n",
      "100/100 [==============================] - 22s 224ms/step - loss: 0.2872 - acc: 0.8790 - val_loss: 0.2374 - val_acc: 0.9040\n",
      "Epoch 29/30\n",
      "100/100 [==============================] - 23s 227ms/step - loss: 0.2839 - acc: 0.8725 - val_loss: 0.2305 - val_acc: 0.9040\n",
      "Epoch 30/30\n",
      "100/100 [==============================] - 23s 227ms/step - loss: 0.2755 - acc: 0.8850 - val_loss: 0.2401 - val_acc: 0.8970\n"
     ]
    }
   ],
   "source": [
    "from keras import optimizers\n",
    "\n",
    "train_datagen = ImageDataGenerator(\n",
    "    rescale=1./255,\n",
    "    rotation_range=40,\n",
    "    width_shift_range=0.2,\n",
    "    height_shift_range=0.2,\n",
    "    shear_range=0.2,\n",
    "    zoom_range=0.2,\n",
    "    horizontal_flip=True,\n",
    "    fill_mode='nearest')\n",
    "\n",
    "test_datagen = ImageDataGenerator(rescale=1./255)\n",
    "\n",
    "train_generator = train_datagen.flow_from_directory(\n",
    "train_dir,\n",
    "target_size=(150,150),\n",
    "batch_size=20,\n",
    "class_mode='binary')\n",
    "\n",
    "validation_generator = test_datagen.flow_from_directory(\n",
    "validation_dir,\n",
    "target_size=(150,150),\n",
    "batch_size=20,\n",
    "class_mode='binary')\n",
    "\n",
    "model.compile(loss='binary_crossentropy', optimizer = optimizers.RMSprop(lr=2e-5), metrics=['acc'])\n",
    "\n",
    "history = model.fit_generator(\n",
    "train_generator,\n",
    "steps_per_epoch=100,\n",
    "epochs=30,\n",
    "validation_data=validation_generator,\n",
    "validation_steps=50)"
   ]
  },
  {
   "cell_type": "code",
   "execution_count": 14,
   "metadata": {},
   "outputs": [
    {
     "data": {
      "text/plain": [
       "<matplotlib.legend.Legend at 0x1d1e048c630>"
      ]
     },
     "execution_count": 14,
     "metadata": {},
     "output_type": "execute_result"
    },
    {
     "data": {
      "image/png": "[encoded data removed]",
      "text/plain": [
       "<Figure size 432x288 with 1 Axes>"
      ]
     },
     "metadata": {
      "needs_background": "light"
     },
     "output_type": "display_data"
    }
   ],
   "source": [
    "acc = history.history['acc']\n",
    "val_acc = history.history['val_acc']\n",
    "loss = history.history['loss']\n",
    "val_loss = history.history['val_loss']\n",
    "\n",
    "epochs = range(1, len(acc) + 1)\n",
    "\n",
    "\n",
    "plt.plot(epochs, acc, 'b', label='Training acc')\n",
    "plt.plot(epochs, val_acc, 'r', label='Validation acc')\n",
    "plt.title('training and validation accuracy')\n",
    "plt.legend()"
   ]
  },
  {
   "cell_type": "markdown",
   "metadata": {},
   "source": [
    "### Fine-Tuning\n",
    "Unfreezing later Conv layers. Steps:\n",
    "1. Add your custom network on top of an already-trained base network\n",
    "2. Freeze the base network\n",
    "3. Train the part you added\n",
    "4. Unfreeze some layers in the base network\n",
    "5. Jointly train both these layers and the part you added (with a LOW learning rate on the unfrozen layers)"
   ]
  },
  {
   "cell_type": "code",
   "execution_count": 16,
   "metadata": {},
   "outputs": [
    {
     "name": "stdout",
     "output_type": "stream",
     "text": [
      "Epoch 1/100\n",
      "100/100 [==============================] - 26s 263ms/step - loss: 0.2836 - acc: 0.8730 - val_loss: 0.2569 - val_acc: 0.8860\n",
      "Epoch 2/100\n",
      "100/100 [==============================] - 24s 245ms/step - loss: 0.2546 - acc: 0.8910 - val_loss: 0.1937 - val_acc: 0.9180\n",
      "Epoch 3/100\n",
      "100/100 [==============================] - 25s 246ms/step - loss: 0.2340 - acc: 0.8990 - val_loss: 0.1920 - val_acc: 0.9230\n",
      "Epoch 4/100\n",
      "100/100 [==============================] - 25s 246ms/step - loss: 0.2259 - acc: 0.9020 - val_loss: 0.2129 - val_acc: 0.9190\n",
      "Epoch 5/100\n",
      "100/100 [==============================] - 25s 247ms/step - loss: 0.2115 - acc: 0.9095 - val_loss: 0.3296 - val_acc: 0.8800\n",
      "Epoch 6/100\n",
      "100/100 [==============================] - 25s 248ms/step - loss: 0.1906 - acc: 0.9250 - val_loss: 0.2030 - val_acc: 0.9270\n",
      "Epoch 7/100\n",
      "100/100 [==============================] - 25s 249ms/step - loss: 0.1877 - acc: 0.9190 - val_loss: 0.2237 - val_acc: 0.9130\n",
      "Epoch 8/100\n",
      "100/100 [==============================] - 25s 249ms/step - loss: 0.1796 - acc: 0.9330 - val_loss: 0.1554 - val_acc: 0.9430\n",
      "Epoch 9/100\n",
      "100/100 [==============================] - 25s 248ms/step - loss: 0.1716 - acc: 0.9225 - val_loss: 0.1658 - val_acc: 0.9370\n",
      "Epoch 10/100\n",
      "100/100 [==============================] - 25s 248ms/step - loss: 0.1518 - acc: 0.9360 - val_loss: 0.1723 - val_acc: 0.9330\n",
      "Epoch 11/100\n",
      "100/100 [==============================] - 25s 248ms/step - loss: 0.1415 - acc: 0.9440 - val_loss: 0.1670 - val_acc: 0.9330\n",
      "Epoch 12/100\n",
      "100/100 [==============================] - 25s 250ms/step - loss: 0.1400 - acc: 0.9460 - val_loss: 0.2071 - val_acc: 0.9210\n",
      "Epoch 13/100\n",
      "100/100 [==============================] - 25s 249ms/step - loss: 0.1382 - acc: 0.9475 - val_loss: 0.1690 - val_acc: 0.9280\n",
      "Epoch 14/100\n",
      "100/100 [==============================] - 25s 253ms/step - loss: 0.1253 - acc: 0.9535 - val_loss: 0.1607 - val_acc: 0.9380.1165 - acc: 0.955 - ETA: 3s - loss: 0.1166 - acc: - ETA: 2s - loss: 0.1219 - acc:  - ETA: 1s - loss: 0.1279 - acc:\n",
      "Epoch 15/100\n",
      "100/100 [==============================] - 24s 243ms/step - loss: 0.1191 - acc: 0.9545 - val_loss: 0.1872 - val_acc: 0.9300\n",
      "Epoch 16/100\n",
      "100/100 [==============================] - 24s 243ms/step - loss: 0.1086 - acc: 0.9565 - val_loss: 0.1644 - val_acc: 0.9360\n",
      "Epoch 17/100\n",
      "100/100 [==============================] - 24s 242ms/step - loss: 0.1101 - acc: 0.9585 - val_loss: 0.2466 - val_acc: 0.9120\n",
      "Epoch 18/100\n",
      "100/100 [==============================] - 24s 243ms/step - loss: 0.1069 - acc: 0.9570 - val_loss: 0.1882 - val_acc: 0.9330\n",
      "Epoch 19/100\n",
      "100/100 [==============================] - 24s 243ms/step - loss: 0.1058 - acc: 0.9550 - val_loss: 0.2583 - val_acc: 0.9160\n",
      "Epoch 20/100\n",
      "100/100 [==============================] - 24s 243ms/step - loss: 0.0978 - acc: 0.9635 - val_loss: 0.1749 - val_acc: 0.9290\n",
      "Epoch 21/100\n",
      "100/100 [==============================] - 24s 244ms/step - loss: 0.0920 - acc: 0.9655 - val_loss: 0.1949 - val_acc: 0.9350\n",
      "Epoch 22/100\n",
      "100/100 [==============================] - 24s 245ms/step - loss: 0.0951 - acc: 0.9625 - val_loss: 0.1969 - val_acc: 0.9250\n",
      "Epoch 23/100\n",
      "100/100 [==============================] - 25s 247ms/step - loss: 0.0865 - acc: 0.9615 - val_loss: 0.2367 - val_acc: 0.9160\n",
      "Epoch 24/100\n",
      "100/100 [==============================] - 24s 244ms/step - loss: 0.0943 - acc: 0.9665 - val_loss: 0.1886 - val_acc: 0.9430\n",
      "Epoch 25/100\n",
      "100/100 [==============================] - 24s 243ms/step - loss: 0.0690 - acc: 0.9735 - val_loss: 0.1568 - val_acc: 0.9430\n",
      "Epoch 26/100\n",
      "100/100 [==============================] - 24s 243ms/step - loss: 0.0694 - acc: 0.9725 - val_loss: 0.2051 - val_acc: 0.9250\n",
      "Epoch 27/100\n",
      "100/100 [==============================] - 26s 261ms/step - loss: 0.0910 - acc: 0.9675 - val_loss: 0.1595 - val_acc: 0.9350\n",
      "Epoch 28/100\n",
      "100/100 [==============================] - 27s 265ms/step - loss: 0.0746 - acc: 0.9710 - val_loss: 0.1818 - val_acc: 0.9420\n",
      "Epoch 29/100\n",
      "100/100 [==============================] - 26s 257ms/step - loss: 0.0766 - acc: 0.9645 - val_loss: 0.1685 - val_acc: 0.9400\n",
      "Epoch 30/100\n",
      "100/100 [==============================] - 24s 242ms/step - loss: 0.0733 - acc: 0.9695 - val_loss: 0.2041 - val_acc: 0.9380\n",
      "Epoch 31/100\n",
      "100/100 [==============================] - 24s 242ms/step - loss: 0.0732 - acc: 0.9720 - val_loss: 0.1861 - val_acc: 0.9280\n",
      "Epoch 32/100\n",
      "100/100 [==============================] - 24s 243ms/step - loss: 0.0681 - acc: 0.9740 - val_loss: 0.1969 - val_acc: 0.9300\n",
      "Epoch 33/100\n",
      "100/100 [==============================] - 24s 243ms/step - loss: 0.0574 - acc: 0.9780 - val_loss: 0.2130 - val_acc: 0.932084 - a\n",
      "Epoch 34/100\n",
      "100/100 [==============================] - 24s 243ms/step - loss: 0.0642 - acc: 0.9795 - val_loss: 0.1781 - val_acc: 0.9440 0.\n",
      "Epoch 35/100\n",
      "100/100 [==============================] - 24s 243ms/step - loss: 0.0614 - acc: 0.9760 - val_loss: 0.1959 - val_acc: 0.9400\n",
      "Epoch 36/100\n",
      "100/100 [==============================] - 24s 244ms/step - loss: 0.0608 - acc: 0.9785 - val_loss: 0.2800 - val_acc: 0.9220\n",
      "Epoch 37/100\n",
      "100/100 [==============================] - 24s 244ms/step - loss: 0.0470 - acc: 0.9835 - val_loss: 0.2034 - val_acc: 0.9340- E - ETA:\n",
      "Epoch 38/100\n",
      "100/100 [==============================] - 24s 244ms/step - loss: 0.0515 - acc: 0.9780 - val_loss: 0.1634 - val_acc: 0.9460\n",
      "Epoch 39/100\n",
      "100/100 [==============================] - 24s 245ms/step - loss: 0.0572 - acc: 0.9770 - val_loss: 0.1828 - val_acc: 0.9410\n",
      "Epoch 40/100\n",
      "100/100 [==============================] - 24s 245ms/step - loss: 0.0614 - acc: 0.9760 - val_loss: 0.2358 - val_acc: 0.9310\n",
      "Epoch 41/100\n",
      "100/100 [==============================] - 24s 244ms/step - loss: 0.0494 - acc: 0.9810 - val_loss: 0.1814 - val_acc: 0.9300\n",
      "Epoch 42/100\n",
      "100/100 [==============================] - 24s 245ms/step - loss: 0.0512 - acc: 0.9815 - val_loss: 0.1838 - val_acc: 0.9350\n",
      "Epoch 43/100\n",
      "100/100 [==============================] - 24s 245ms/step - loss: 0.0471 - acc: 0.9830 - val_loss: 0.3002 - val_acc: 0.9120\n",
      "Epoch 44/100\n",
      "100/100 [==============================] - 25s 246ms/step - loss: 0.0501 - acc: 0.9815 - val_loss: 0.2376 - val_acc: 0.9260\n",
      "Epoch 45/100\n",
      "100/100 [==============================] - 25s 246ms/step - loss: 0.0500 - acc: 0.9825 - val_loss: 0.2350 - val_acc: 0.9280\n",
      "Epoch 46/100\n",
      "100/100 [==============================] - 25s 246ms/step - loss: 0.0514 - acc: 0.9835 - val_loss: 0.1544 - val_acc: 0.9500\n",
      "Epoch 47/100\n",
      "100/100 [==============================] - 24s 241ms/step - loss: 0.0424 - acc: 0.9830 - val_loss: 0.1940 - val_acc: 0.9370\n",
      "Epoch 48/100\n",
      "100/100 [==============================] - 26s 257ms/step - loss: 0.0430 - acc: 0.9885 - val_loss: 0.1952 - val_acc: 0.9410\n",
      "Epoch 49/100\n",
      "100/100 [==============================] - 27s 266ms/step - loss: 0.0288 - acc: 0.9905 - val_loss: 0.2674 - val_acc: 0.9260\n",
      "Epoch 50/100\n",
      "100/100 [==============================] - 27s 265ms/step - loss: 0.0546 - acc: 0.9820 - val_loss: 0.1883 - val_acc: 0.9460\n",
      "Epoch 51/100\n",
      "100/100 [==============================] - 27s 265ms/step - loss: 0.0462 - acc: 0.9845 - val_loss: 0.2396 - val_acc: 0.9280\n",
      "Epoch 52/100\n",
      "100/100 [==============================] - 27s 266ms/step - loss: 0.0333 - acc: 0.9885 - val_loss: 0.2212 - val_acc: 0.9390\n",
      "Epoch 53/100\n",
      "100/100 [==============================] - 27s 266ms/step - loss: 0.0475 - acc: 0.9850 - val_loss: 0.2683 - val_acc: 0.9270\n",
      "Epoch 54/100\n",
      "100/100 [==============================] - 27s 266ms/step - loss: 0.0359 - acc: 0.9880 - val_loss: 0.4288 - val_acc: 0.9010\n",
      "Epoch 55/100\n",
      "100/100 [==============================] - 27s 266ms/step - loss: 0.0328 - acc: 0.9870 - val_loss: 0.2515 - val_acc: 0.9270\n",
      "Epoch 56/100\n",
      "100/100 [==============================] - 27s 266ms/step - loss: 0.0296 - acc: 0.9880 - val_loss: 0.2316 - val_acc: 0.9430\n",
      "Epoch 57/100\n",
      "100/100 [==============================] - 27s 266ms/step - loss: 0.0410 - acc: 0.9850 - val_loss: 0.2537 - val_acc: 0.9340\n",
      "Epoch 58/100\n",
      "100/100 [==============================] - 27s 266ms/step - loss: 0.0312 - acc: 0.9900 - val_loss: 0.1855 - val_acc: 0.9430\n",
      "Epoch 59/100\n",
      "100/100 [==============================] - 27s 265ms/step - loss: 0.0323 - acc: 0.9895 - val_loss: 0.2968 - val_acc: 0.9340\n"
     ]
    },
    {
     "name": "stdout",
     "output_type": "stream",
     "text": [
      "Epoch 60/100\n",
      "100/100 [==============================] - 26s 265ms/step - loss: 0.0530 - acc: 0.9810 - val_loss: 0.1856 - val_acc: 0.9400\n",
      "Epoch 61/100\n",
      "100/100 [==============================] - 27s 265ms/step - loss: 0.0251 - acc: 0.9905 - val_loss: 0.2556 - val_acc: 0.9380\n",
      "Epoch 62/100\n",
      "100/100 [==============================] - 26s 264ms/step - loss: 0.0402 - acc: 0.9855 - val_loss: 0.2560 - val_acc: 0.9410\n",
      "Epoch 63/100\n",
      "100/100 [==============================] - 27s 266ms/step - loss: 0.0337 - acc: 0.9865 - val_loss: 0.2855 - val_acc: 0.9180\n",
      "Epoch 64/100\n",
      "100/100 [==============================] - 27s 265ms/step - loss: 0.0294 - acc: 0.9890 - val_loss: 0.3554 - val_acc: 0.9240\n",
      "Epoch 65/100\n",
      "100/100 [==============================] - 26s 265ms/step - loss: 0.0227 - acc: 0.9910 - val_loss: 0.2566 - val_acc: 0.9340\n",
      "Epoch 66/100\n",
      "100/100 [==============================] - 27s 265ms/step - loss: 0.0302 - acc: 0.9895 - val_loss: 0.2128 - val_acc: 0.9400\n",
      "Epoch 67/100\n",
      "100/100 [==============================] - 26s 265ms/step - loss: 0.0243 - acc: 0.9900 - val_loss: 0.3031 - val_acc: 0.9340\n",
      "Epoch 68/100\n",
      "100/100 [==============================] - 26s 265ms/step - loss: 0.0249 - acc: 0.9920 - val_loss: 0.3067 - val_acc: 0.9290\n",
      "Epoch 69/100\n",
      "100/100 [==============================] - 26s 265ms/step - loss: 0.0237 - acc: 0.9930 - val_loss: 0.2459 - val_acc: 0.9360\n",
      "Epoch 70/100\n",
      "100/100 [==============================] - 27s 268ms/step - loss: 0.0253 - acc: 0.9910 - val_loss: 0.2784 - val_acc: 0.9260\n",
      "Epoch 71/100\n",
      "100/100 [==============================] - 27s 273ms/step - loss: 0.0429 - acc: 0.9885 - val_loss: 0.2219 - val_acc: 0.9400\n",
      "Epoch 72/100\n",
      "100/100 [==============================] - 28s 276ms/step - loss: 0.0263 - acc: 0.9910 - val_loss: 0.3921 - val_acc: 0.9120\n",
      "Epoch 73/100\n",
      "100/100 [==============================] - 28s 279ms/step - loss: 0.0242 - acc: 0.9910 - val_loss: 0.2298 - val_acc: 0.9390\n",
      "Epoch 74/100\n",
      "100/100 [==============================] - 28s 275ms/step - loss: 0.0267 - acc: 0.9890 - val_loss: 0.2473 - val_acc: 0.9420\n",
      "Epoch 75/100\n",
      "100/100 [==============================] - 28s 276ms/step - loss: 0.0305 - acc: 0.9905 - val_loss: 0.2389 - val_acc: 0.9430\n",
      "Epoch 76/100\n",
      "100/100 [==============================] - 27s 275ms/step - loss: 0.0308 - acc: 0.9895 - val_loss: 0.2521 - val_acc: 0.9300\n",
      "Epoch 77/100\n",
      "100/100 [==============================] - 28s 276ms/step - loss: 0.0158 - acc: 0.9950 - val_loss: 0.2604 - val_acc: 0.9370\n",
      "Epoch 78/100\n",
      "100/100 [==============================] - 28s 276ms/step - loss: 0.0224 - acc: 0.9930 - val_loss: 0.2845 - val_acc: 0.9440\n",
      "Epoch 79/100\n",
      "100/100 [==============================] - 28s 275ms/step - loss: 0.0258 - acc: 0.9885 - val_loss: 0.2790 - val_acc: 0.9400\n",
      "Epoch 80/100\n",
      "100/100 [==============================] - 27s 275ms/step - loss: 0.0235 - acc: 0.9920 - val_loss: 0.2827 - val_acc: 0.9380\n",
      "Epoch 81/100\n",
      "100/100 [==============================] - 27s 274ms/step - loss: 0.0218 - acc: 0.9940 - val_loss: 0.2600 - val_acc: 0.9360\n",
      "Epoch 82/100\n",
      "100/100 [==============================] - 27s 273ms/step - loss: 0.0194 - acc: 0.9930 - val_loss: 0.4871 - val_acc: 0.9010\n",
      "Epoch 83/100\n",
      "100/100 [==============================] - 27s 269ms/step - loss: 0.0181 - acc: 0.9955 - val_loss: 0.3160 - val_acc: 0.9330\n",
      "Epoch 84/100\n",
      "100/100 [==============================] - 27s 269ms/step - loss: 0.0308 - acc: 0.9910 - val_loss: 0.2269 - val_acc: 0.9420\n",
      "Epoch 85/100\n",
      "100/100 [==============================] - 27s 269ms/step - loss: 0.0229 - acc: 0.9920 - val_loss: 0.3367 - val_acc: 0.9260\n",
      "Epoch 86/100\n",
      "100/100 [==============================] - 27s 269ms/step - loss: 0.0232 - acc: 0.9905 - val_loss: 0.2013 - val_acc: 0.9360\n",
      "Epoch 87/100\n",
      "100/100 [==============================] - 27s 269ms/step - loss: 0.0266 - acc: 0.9895 - val_loss: 0.2526 - val_acc: 0.9360\n",
      "Epoch 88/100\n",
      "100/100 [==============================] - 27s 269ms/step - loss: 0.0165 - acc: 0.9945 - val_loss: 0.2789 - val_acc: 0.9400\n",
      "Epoch 89/100\n",
      "100/100 [==============================] - 27s 269ms/step - loss: 0.0206 - acc: 0.9915 - val_loss: 0.3278 - val_acc: 0.9350\n",
      "Epoch 90/100\n",
      "100/100 [==============================] - 27s 269ms/step - loss: 0.0241 - acc: 0.9905 - val_loss: 0.3328 - val_acc: 0.9320\n",
      "Epoch 91/100\n",
      "100/100 [==============================] - 27s 270ms/step - loss: 0.0230 - acc: 0.9930 - val_loss: 0.3084 - val_acc: 0.9400\n",
      "Epoch 92/100\n",
      "100/100 [==============================] - 27s 269ms/step - loss: 0.0295 - acc: 0.9900 - val_loss: 0.2805 - val_acc: 0.9390\n",
      "Epoch 93/100\n",
      "100/100 [==============================] - 27s 269ms/step - loss: 0.0145 - acc: 0.9940 - val_loss: 0.2813 - val_acc: 0.9370\n",
      "Epoch 94/100\n",
      "100/100 [==============================] - 27s 269ms/step - loss: 0.0194 - acc: 0.9915 - val_loss: 0.2914 - val_acc: 0.9370\n",
      "Epoch 95/100\n",
      "100/100 [==============================] - 27s 269ms/step - loss: 0.0185 - acc: 0.9940 - val_loss: 0.3583 - val_acc: 0.9310\n",
      "Epoch 96/100\n",
      "100/100 [==============================] - 27s 268ms/step - loss: 0.0201 - acc: 0.9940 - val_loss: 0.2844 - val_acc: 0.9410\n",
      "Epoch 97/100\n",
      "100/100 [==============================] - 27s 268ms/step - loss: 0.0252 - acc: 0.9905 - val_loss: 0.2908 - val_acc: 0.9390\n",
      "Epoch 98/100\n",
      "100/100 [==============================] - 27s 268ms/step - loss: 0.0188 - acc: 0.9940 - val_loss: 0.3036 - val_acc: 0.9340\n",
      "Epoch 99/100\n",
      "100/100 [==============================] - 27s 268ms/step - loss: 0.0211 - acc: 0.9925 - val_loss: 0.2537 - val_acc: 0.9420\n",
      "Epoch 100/100\n",
      "100/100 [==============================] - 27s 268ms/step - loss: 0.0194 - acc: 0.9920 - val_loss: 0.3282 - val_acc: 0.9360\n"
     ]
    }
   ],
   "source": [
    "conv_base.trainable = True\n",
    "set_trainable = False\n",
    "for layer in conv_base.layers:\n",
    "    if layer.name == 'block5_conv1':\n",
    "        set_trainable = True\n",
    "    if set_trainable:\n",
    "        layer.trainable = True\n",
    "    else:\n",
    "        layer.trainable = False\n",
    "        \n",
    "model.compile(loss='binary_crossentropy', optimizer=optimizers.RMSprop(lr=1e-5), metrics=['acc'])\n",
    "\n",
    "history = model.fit_generator(\n",
    "    train_generator,\n",
    "    steps_per_epoch=100,\n",
    "    epochs=100,\n",
    "    validation_data=validation_generator,\n",
    "    validation_steps=50)"
   ]
  },
  {
   "cell_type": "code",
   "execution_count": 17,
   "metadata": {},
   "outputs": [
    {
     "data": {
      "text/plain": [
       "<matplotlib.legend.Legend at 0x1d1dffc80b8>"
      ]
     },
     "execution_count": 17,
     "metadata": {},
     "output_type": "execute_result"
    },
    {
     "data": {
      "image/png": "[encoded data removed]",
      "text/plain": [
       "<Figure size 432x288 with 1 Axes>"
      ]
     },
     "metadata": {
      "needs_background": "light"
     },
     "output_type": "display_data"
    }
   ],
   "source": [
    "acc = history.history['acc']\n",
    "val_acc = history.history['val_acc']\n",
    "loss = history.history['loss']\n",
    "val_loss = history.history['val_loss']\n",
    "\n",
    "epochs = range(1, len(acc) + 1)\n",
    "\n",
    "\n",
    "plt.plot(epochs, acc, 'b', label='Training acc')\n",
    "plt.plot(epochs, val_acc, 'r', label='Validation acc')\n",
    "plt.title('training and validation accuracy')\n",
    "plt.legend()"
   ]
  },
  {
   "cell_type": "code",
   "execution_count": 18,
   "metadata": {},
   "outputs": [
    {
     "name": "stdout",
     "output_type": "stream",
     "text": [
      "Found 1000 images belonging to 2 classes.\n",
      "test acc: 0.9299999916553497\n"
     ]
    }
   ],
   "source": [
    "test_generator = test_datagen.flow_from_directory(\n",
    "test_dir,\n",
    "target_size=(150,150),\n",
    "batch_size=20,\n",
    "class_mode='binary')\n",
    "\n",
    "test_loss, test_acc = model.evaluate_generator(test_generatortor, steps=50)\n",
    "print(f'test acc: {test_acc}')"
   ]
  },
  {
   "cell_type": "code",
   "execution_count": 19,
   "metadata": {},
   "outputs": [],
   "source": [
    "model.save('cats_and_dogs_small_3.h5')"
   ]
  }
 ],
 "metadata": {
  "kernelspec": {
   "display_name": "Python (tf-gpu)",
   "language": "python",
   "name": "tf-gpu"
  },
  "language_info": {
   "codemirror_mode": {
    "name": "ipython",
    "version": 3
   },
   "file_extension": ".py",
   "mimetype": "text/x-python",
   "name": "python",
   "nbconvert_exporter": "python",
   "pygments_lexer": "ipython3",
   "version": "3.6.8"
  }
 },
 "nbformat": 4,
 "nbformat_minor": 2
}
