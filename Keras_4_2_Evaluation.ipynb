{
 "cells": [
  {
   "cell_type": "markdown",
   "metadata": {},
   "source": [
    "### Training, Validation, Test sets\n",
    "Tuning model (such as selecting the number of epochs based on validation set performance) is a form of data leakage. \n",
    "EVERYTIME you tune a hyperparameter of the model based on the model's performance on the validation set, SOME information about the validation data leaks into model.\n",
    "* Do it once: it's ok\n",
    "* Do it repeatedly: You'll leak significant amount of information into your model\n",
    "* THIS IS WHY YOU NEED A TEST SET"
   ]
  },
  {
   "cell_type": "markdown",
   "metadata": {},
   "source": [
    "##### Simple HoldOut\n",
    "\n",
    "``` \n",
    "import numpy as np\n",
    "np.random.shuffle(data) #Shuffling data is usually appropriate\n",
    "\n",
    "num_validation_samples = 10000\n",
    "validation_data = data[:num_validation_samples]\n",
    "training_data = data[num_validation-samples:]\n",
    "\n",
    "model = get_model()\n",
    "model.train(training_data)\n",
    "validation_score = model.evaluate(validation_data)\n",
    "\n",
    "# At this point, tune your model,\n",
    "# Retrain it, evaluate it, tune it again...\n",
    "\n",
    "model = get_model()\n",
    "Now train model on ALL AVAILABLE non-test data :)\n",
    "model.train(np.concatenate([training_data, validation_data])) \n",
    "test_score = model.evaluate(test_data)\n",
    "```"
   ]
  },
  {
   "cell_type": "markdown",
   "metadata": {},
   "source": [
    "### Iterated K-Fold Validation\n",
    "Have little data, and want to evaluate as precisely as possible?\n",
    "Apply k-fold validation multiple times, shuffling the data every time before splitting it K ways. Final score is the average of the scores obtained at each run of K-Fold.\n",
    "\n",
    "* You will wend up training and evaluating P * K models"
   ]
  },
  {
   "cell_type": "markdown",
   "metadata": {},
   "source": [
    "### Common Gotcha's\n",
    "* Data Representativeness - In equally balanced cases - it's possible to just randomly shuffle the data\n",
    "* Data Representativeness - in imbalanced class cases (or continious valued cases where there are outliers) "
   ]
  }
 ],
 "metadata": {
  "kernelspec": {
   "display_name": "Python 3",
   "language": "python",
   "name": "python3"
  },
  "language_info": {
   "codemirror_mode": {
    "name": "ipython",
    "version": 3
   },
   "file_extension": ".py",
   "mimetype": "text/x-python",
   "name": "python",
   "nbconvert_exporter": "python",
   "pygments_lexer": "ipython3",
   "version": "3.6.8"
  }
 },
 "nbformat": 4,
 "nbformat_minor": 2
}
